{
 "cells": [
  {
   "cell_type": "code",
   "execution_count": 3,
   "id": "attached-throat",
   "metadata": {},
   "outputs": [
    {
     "data": {
      "text/plain": [
       "'C:\\\\Users\\\\davys\\\\GitRepo\\\\NWFintech\\\\Fintech Homework\\\\HW-02-Python\\\\Instructions\\\\PyBank\\\\HW'"
      ]
     },
     "execution_count": 3,
     "metadata": {},
     "output_type": "execute_result"
    }
   ],
   "source": [
    "import os \n",
    "os.getcwd()"
   ]
  },
  {
   "cell_type": "code",
   "execution_count": 5,
   "id": "proved-renaissance",
   "metadata": {},
   "outputs": [],
   "source": [
    "from pathlib import Path\n",
    "import pandas as pd\n",
    "import csv"
   ]
  },
  {
   "cell_type": "code",
   "execution_count": 6,
   "id": "cloudy-harvest",
   "metadata": {},
   "outputs": [],
   "source": [
    "filepath = Path('C:\\\\Users\\\\davys\\\\GitRepo\\\\NWFintech\\\\Fintech Homework\\\\HW-02-Python\\\\Instructions\\\\PyBank\\\\Resources\\\\budget_data.csv')"
   ]
  },
  {
   "cell_type": "code",
   "execution_count": 7,
   "id": "nasty-wesley",
   "metadata": {},
   "outputs": [],
   "source": [
    "data = pd.read_csv(filepath)"
   ]
  },
  {
   "cell_type": "code",
   "execution_count": 8,
   "id": "unknown-honey",
   "metadata": {},
   "outputs": [
    {
     "data": {
      "text/html": [
       "<div>\n",
       "<style scoped>\n",
       "    .dataframe tbody tr th:only-of-type {\n",
       "        vertical-align: middle;\n",
       "    }\n",
       "\n",
       "    .dataframe tbody tr th {\n",
       "        vertical-align: top;\n",
       "    }\n",
       "\n",
       "    .dataframe thead th {\n",
       "        text-align: right;\n",
       "    }\n",
       "</style>\n",
       "<table border=\"1\" class=\"dataframe\">\n",
       "  <thead>\n",
       "    <tr style=\"text-align: right;\">\n",
       "      <th></th>\n",
       "      <th>Date</th>\n",
       "      <th>Profit/Losses</th>\n",
       "    </tr>\n",
       "  </thead>\n",
       "  <tbody>\n",
       "    <tr>\n",
       "      <th>0</th>\n",
       "      <td>Jan-2010</td>\n",
       "      <td>867884</td>\n",
       "    </tr>\n",
       "    <tr>\n",
       "      <th>1</th>\n",
       "      <td>Feb-2010</td>\n",
       "      <td>984655</td>\n",
       "    </tr>\n",
       "    <tr>\n",
       "      <th>2</th>\n",
       "      <td>Mar-2010</td>\n",
       "      <td>322013</td>\n",
       "    </tr>\n",
       "    <tr>\n",
       "      <th>3</th>\n",
       "      <td>Apr-2010</td>\n",
       "      <td>-69417</td>\n",
       "    </tr>\n",
       "    <tr>\n",
       "      <th>4</th>\n",
       "      <td>May-2010</td>\n",
       "      <td>310503</td>\n",
       "    </tr>\n",
       "  </tbody>\n",
       "</table>\n",
       "</div>"
      ],
      "text/plain": [
       "       Date  Profit/Losses\n",
       "0  Jan-2010         867884\n",
       "1  Feb-2010         984655\n",
       "2  Mar-2010         322013\n",
       "3  Apr-2010         -69417\n",
       "4  May-2010         310503"
      ]
     },
     "execution_count": 8,
     "metadata": {},
     "output_type": "execute_result"
    }
   ],
   "source": [
    "data.head()"
   ]
  },
  {
   "cell_type": "code",
   "execution_count": 14,
   "id": "guided-humidity",
   "metadata": {},
   "outputs": [],
   "source": [
    "NumOfMonths = data.shape[0]"
   ]
  },
  {
   "cell_type": "code",
   "execution_count": 22,
   "id": "palestinian-nebraska",
   "metadata": {},
   "outputs": [],
   "source": [
    "df = data.set_index('Date')"
   ]
  },
  {
   "cell_type": "code",
   "execution_count": 24,
   "id": "social-assets",
   "metadata": {},
   "outputs": [],
   "source": [
    "NetTotal = sum(df['Profit/Losses'])"
   ]
  },
  {
   "cell_type": "code",
   "execution_count": 25,
   "id": "understood-savage",
   "metadata": {},
   "outputs": [],
   "source": [
    "df['pct_change'] = df.pct_change() "
   ]
  },
  {
   "cell_type": "code",
   "execution_count": 93,
   "id": "modular-wyoming",
   "metadata": {},
   "outputs": [],
   "source": [
    "dollar_change = []\n",
    "for row in range(len(df)-1):\n",
    "#     print(row)\n",
    "    change = df['Profit/Losses'][row]*df['Profit/Losses'].pct_change()[row + 1]\n",
    "    dollar_change.append(change)\n",
    "dollar_change.append(0)\n",
    "\n"
   ]
  },
  {
   "cell_type": "code",
   "execution_count": 94,
   "id": "nearby-reason",
   "metadata": {},
   "outputs": [],
   "source": [
    "df['change'] = dollar_change"
   ]
  },
  {
   "cell_type": "code",
   "execution_count": 95,
   "id": "simplified-breakfast",
   "metadata": {},
   "outputs": [
    {
     "data": {
      "text/html": [
       "<div>\n",
       "<style scoped>\n",
       "    .dataframe tbody tr th:only-of-type {\n",
       "        vertical-align: middle;\n",
       "    }\n",
       "\n",
       "    .dataframe tbody tr th {\n",
       "        vertical-align: top;\n",
       "    }\n",
       "\n",
       "    .dataframe thead th {\n",
       "        text-align: right;\n",
       "    }\n",
       "</style>\n",
       "<table border=\"1\" class=\"dataframe\">\n",
       "  <thead>\n",
       "    <tr style=\"text-align: right;\">\n",
       "      <th></th>\n",
       "      <th>Profit/Losses</th>\n",
       "      <th>pct_change</th>\n",
       "      <th>change</th>\n",
       "    </tr>\n",
       "    <tr>\n",
       "      <th>Date</th>\n",
       "      <th></th>\n",
       "      <th></th>\n",
       "      <th></th>\n",
       "    </tr>\n",
       "  </thead>\n",
       "  <tbody>\n",
       "    <tr>\n",
       "      <th>Jan-2010</th>\n",
       "      <td>867884</td>\n",
       "      <td>NaN</td>\n",
       "      <td>116771.0</td>\n",
       "    </tr>\n",
       "    <tr>\n",
       "      <th>Feb-2010</th>\n",
       "      <td>984655</td>\n",
       "      <td>0.134547</td>\n",
       "      <td>-662642.0</td>\n",
       "    </tr>\n",
       "    <tr>\n",
       "      <th>Mar-2010</th>\n",
       "      <td>322013</td>\n",
       "      <td>-0.672969</td>\n",
       "      <td>-391430.0</td>\n",
       "    </tr>\n",
       "    <tr>\n",
       "      <th>Apr-2010</th>\n",
       "      <td>-69417</td>\n",
       "      <td>-1.215572</td>\n",
       "      <td>379920.0</td>\n",
       "    </tr>\n",
       "    <tr>\n",
       "      <th>May-2010</th>\n",
       "      <td>310503</td>\n",
       "      <td>-5.473011</td>\n",
       "      <td>212354.0</td>\n",
       "    </tr>\n",
       "    <tr>\n",
       "      <th>...</th>\n",
       "      <td>...</td>\n",
       "      <td>...</td>\n",
       "      <td>...</td>\n",
       "    </tr>\n",
       "    <tr>\n",
       "      <th>Oct-2016</th>\n",
       "      <td>102685</td>\n",
       "      <td>-0.866374</td>\n",
       "      <td>693229.0</td>\n",
       "    </tr>\n",
       "    <tr>\n",
       "      <th>Nov-2016</th>\n",
       "      <td>795914</td>\n",
       "      <td>6.751025</td>\n",
       "      <td>-734926.0</td>\n",
       "    </tr>\n",
       "    <tr>\n",
       "      <th>Dec-2016</th>\n",
       "      <td>60988</td>\n",
       "      <td>-0.923374</td>\n",
       "      <td>77242.0</td>\n",
       "    </tr>\n",
       "    <tr>\n",
       "      <th>Jan-2017</th>\n",
       "      <td>138230</td>\n",
       "      <td>1.266511</td>\n",
       "      <td>532869.0</td>\n",
       "    </tr>\n",
       "    <tr>\n",
       "      <th>Feb-2017</th>\n",
       "      <td>671099</td>\n",
       "      <td>3.854945</td>\n",
       "      <td>0.0</td>\n",
       "    </tr>\n",
       "  </tbody>\n",
       "</table>\n",
       "<p>86 rows × 3 columns</p>\n",
       "</div>"
      ],
      "text/plain": [
       "          Profit/Losses  pct_change    change\n",
       "Date                                         \n",
       "Jan-2010         867884         NaN  116771.0\n",
       "Feb-2010         984655    0.134547 -662642.0\n",
       "Mar-2010         322013   -0.672969 -391430.0\n",
       "Apr-2010         -69417   -1.215572  379920.0\n",
       "May-2010         310503   -5.473011  212354.0\n",
       "...                 ...         ...       ...\n",
       "Oct-2016         102685   -0.866374  693229.0\n",
       "Nov-2016         795914    6.751025 -734926.0\n",
       "Dec-2016          60988   -0.923374   77242.0\n",
       "Jan-2017         138230    1.266511  532869.0\n",
       "Feb-2017         671099    3.854945       0.0\n",
       "\n",
       "[86 rows x 3 columns]"
      ]
     },
     "execution_count": 95,
     "metadata": {},
     "output_type": "execute_result"
    }
   ],
   "source": [
    "df"
   ]
  },
  {
   "cell_type": "code",
   "execution_count": 109,
   "id": "fitted-financing",
   "metadata": {},
   "outputs": [
    {
     "data": {
      "text/plain": [
       "545871"
      ]
     },
     "execution_count": 109,
     "metadata": {},
     "output_type": "execute_result"
    }
   ],
   "source": [
    "662642 - 116771"
   ]
  },
  {
   "cell_type": "code",
   "execution_count": 107,
   "id": "forward-kinase",
   "metadata": {},
   "outputs": [],
   "source": [
    "AverageChange = df.change.sum()/(NumOfMonths-1)\n",
    "MaxProfit = df.change.max()\n",
    "MaxLoss = df.change.min()\n"
   ]
  },
  {
   "cell_type": "code",
   "execution_count": 108,
   "id": "beginning-assistant",
   "metadata": {},
   "outputs": [
    {
     "name": "stdout",
     "output_type": "stream",
     "text": [
      "86\n",
      "38382578\n",
      "-2315.117647058826\n",
      "1926159.0\n",
      "-2196167.0\n"
     ]
    }
   ],
   "source": [
    "\n",
    "print(NumOfMonths)\n",
    "print(NetTotal)\n",
    "print(AverageChange)\n",
    "print(MaxProfit)\n",
    "print(MaxLoss)"
   ]
  },
  {
   "cell_type": "code",
   "execution_count": null,
   "id": "valid-intake",
   "metadata": {},
   "outputs": [],
   "source": []
  },
  {
   "cell_type": "code",
   "execution_count": null,
   "id": "greater-partition",
   "metadata": {},
   "outputs": [],
   "source": []
  }
 ],
 "metadata": {
  "kernelspec": {
   "display_name": "Python 3.7 (XPython)",
   "language": "python",
   "name": "xpython"
  },
  "language_info": {
   "file_extension": ".py",
   "mimetype": "text/x-python",
   "name": "python",
   "version": "3.7.9"
  }
 },
 "nbformat": 4,
 "nbformat_minor": 5
}
