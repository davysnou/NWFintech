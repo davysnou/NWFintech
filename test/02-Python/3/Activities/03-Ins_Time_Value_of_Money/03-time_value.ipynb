{
 "cells": [
  {
   "cell_type": "code",
   "execution_count": 1,
   "metadata": {},
   "outputs": [],
   "source": [
    "# function that calculates the future value of money/asset. \n",
    "def calculate_future_value(present_value, interest_rate, compounding_periods, years):\n",
    "   \n",
    "    future_value = present_value * ((1 + (interest_rate / compounding_periods))**(compounding_periods * years))\n",
    "    future_value_formatted = round(future_value, 2)\n",
    "\n",
    "    return future_value_formatted"
   ]
  },
  {
   "cell_type": "code",
   "execution_count": 2,
   "metadata": {},
   "outputs": [],
   "source": [
    "# Set the values\n",
    "present_value = 10000\n",
    "interest_rate = .1\n",
    "compounding_periods = 1\n",
    "years = 3\n",
    "\n",
    "# Call the calculate_future_value() function\n",
    "calculated_future_value = calculate_future_value(present_value, interest_rate, compounding_periods, years)"
   ]
  },
  {
   "cell_type": "code",
   "execution_count": 3,
   "metadata": {},
   "outputs": [
    {
     "name": "stdout",
     "output_type": "stream",
     "text": [
      "The future value of $10000 at an interest rate of 0.1 compounded 1 time(s) every year over 3 years is $13310.0\n"
     ]
    }
   ],
   "source": [
    "# Print out the future_value result\n",
    "print(f\"The future value of ${present_value} at an interest rate of {interest_rate} compounded {compounding_periods} time(s) every year over {years} years is ${calculated_future_value}\")"
   ]
  },
  {
   "cell_type": "code",
   "execution_count": null,
   "metadata": {},
   "outputs": [],
   "source": []
  }
 ],
 "metadata": {
  "kernelspec": {
   "display_name": "Python 3",
   "language": "python",
   "name": "python3"
  },
  "language_info": {
   "codemirror_mode": {
    "name": "ipython",
    "version": 3
   },
   "file_extension": ".py",
   "mimetype": "text/x-python",
   "name": "python",
   "nbconvert_exporter": "python",
   "pygments_lexer": "ipython3",
   "version": "3.7.9"
  }
 },
 "nbformat": 4,
 "nbformat_minor": 4
}
