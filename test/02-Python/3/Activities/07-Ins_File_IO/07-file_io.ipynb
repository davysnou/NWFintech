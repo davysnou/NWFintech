{
 "cells": [
  {
   "cell_type": "code",
   "execution_count": 1,
   "metadata": {},
   "outputs": [],
   "source": [
    "# Import from the pathlib library, the main class Path\n",
    "from pathlib import Path"
   ]
  },
  {
   "cell_type": "code",
   "execution_count": 2,
   "metadata": {},
   "outputs": [
    {
     "name": "stdout",
     "output_type": "stream",
     "text": [
      "Current Working Directory: C:\\Users\\email\\Anaconda3\\envs\\dev\\CLASS_PROJECTS\\Python-Day3\n"
     ]
    }
   ],
   "source": [
    "# Check the current directory where the Python program is executing from\n",
    "print(f\"Current Working Directory: {Path.cwd()}\")"
   ]
  },
  {
   "cell_type": "code",
   "execution_count": 3,
   "metadata": {},
   "outputs": [
    {
     "name": "stdout",
     "output_type": "stream",
     "text": [
      "C:\\Users\\email\\Anaconda3\\envs\\dev\\CLASS_PROJECTS\\Python-Day3\n"
     ]
    }
   ],
   "source": [
    "file = r\"C:\\Users\\email\\Anaconda3\\envs\\dev\\CLASS_PROJECTS\\Python-Day3\"\n",
    "print(file)"
   ]
  },
  {
   "cell_type": "code",
   "execution_count": 4,
   "metadata": {},
   "outputs": [
    {
     "name": "stdout",
     "output_type": "stream",
     "text": [
      "..\\Python-Day3\\input.txt\n"
     ]
    }
   ],
   "source": [
    "filepath = Path(\"..\\Python-Day3\\input.txt\")\n",
    "print(filepath)"
   ]
  },
  {
   "cell_type": "code",
   "execution_count": 5,
   "metadata": {},
   "outputs": [
    {
     "name": "stdout",
     "output_type": "stream",
     "text": [
      "List of Best Jedi: \n",
      "Luke Skywalker\n",
      "Rey\n",
      "Yoda\n",
      "Leia Skywalker\n"
     ]
    }
   ],
   "source": [
    "# Open the file in \"read\" mode ('r') and store the contents in the variable \"text\". open(filename, mode)\n",
    "with open(filepath, 'r') as file:\n",
    "    # Store all of the text from the file inside a variable called \"text\"\n",
    "    # and print the contexts of the text file\n",
    "        \n",
    "#     line_num = 1\n",
    "#     for line in file:\n",
    "#         print(f\"line {line_num}: {line}\")\n",
    "#         line_num += 1\n",
    "   \n",
    "    text = file.read()\n",
    "    print(text)"
   ]
  },
  {
   "cell_type": "code",
   "execution_count": 6,
   "metadata": {},
   "outputs": [
    {
     "name": "stdout",
     "output_type": "stream",
     "text": [
      "line 1: List of Best Jedi: \n",
      "\n",
      "line 2: Luke Skywalker\n",
      "\n",
      "line 3: Rey\n",
      "\n",
      "line 4: Yoda\n",
      "\n",
      "line 5: Leia Skywalker\n"
     ]
    }
   ],
   "source": [
    "# Open the file in \"read\" mode ('r') and print each line.\n",
    "with open(filepath, 'r') as file:  \n",
    "    # Parse and print the file line by line. The print statement adds an\n",
    "    # extra line break to each line in the output.\n",
    "    line_num = 1\n",
    "    for line in file:\n",
    "        print(f\"line {line_num}: {line}\")\n",
    "        line_num += 1\n",
    "    "
   ]
  },
  {
   "cell_type": "code",
   "execution_count": 7,
   "metadata": {},
   "outputs": [],
   "source": [
    "# Set the output file path\n",
    "output_path = Path(\"output.txt\")"
   ]
  },
  {
   "cell_type": "code",
   "execution_count": 8,
   "metadata": {},
   "outputs": [],
   "source": [
    "# Open the output_path as a file object in \"write\" mode ('w')\n",
    "# Write a header line and write the contents of 'text' to the file\n",
    "with open(output_path, 'w') as file:\n",
    "    file.write(\"This is an output file.\\n\")\n",
    "    file.write(text)\n"
   ]
  },
  {
   "cell_type": "code",
   "execution_count": null,
   "metadata": {},
   "outputs": [],
   "source": []
  }
 ],
 "metadata": {
  "kernelspec": {
   "display_name": "Python 3",
   "language": "python",
   "name": "python3"
  },
  "language_info": {
   "codemirror_mode": {
    "name": "ipython",
    "version": 3
   },
   "file_extension": ".py",
   "mimetype": "text/x-python",
   "name": "python",
   "nbconvert_exporter": "python",
   "pygments_lexer": "ipython3",
   "version": "3.7.9"
  }
 },
 "nbformat": 4,
 "nbformat_minor": 4
}
