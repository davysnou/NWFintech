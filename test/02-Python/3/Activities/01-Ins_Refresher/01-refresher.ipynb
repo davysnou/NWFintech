{
 "cells": [
  {
   "cell_type": "code",
   "execution_count": 1,
   "metadata": {},
   "outputs": [],
   "source": [
    "# Variables\n",
    "# Creates a variable with a string \"Frankfurter\"\n",
    "title = \"Frankfurter\"\n",
    "years = 23\n",
    "hourly_wage = 65.40\n",
    "expert_status = True"
   ]
  },
  {
   "cell_type": "code",
   "execution_count": 2,
   "metadata": {},
   "outputs": [
    {
     "name": "stdout",
     "output_type": "stream",
     "text": [
      "x is equal to 1\n"
     ]
    }
   ],
   "source": [
    "# Conditionals\n",
    "# Declare variables and values for evaluation\n",
    "x = 1\n",
    "y = 10\n",
    "\n",
    "# Checks if one value is equal to another\n",
    "if x == 1:\n",
    "  print(\"x is equal to 1\")"
   ]
  },
  {
   "cell_type": "code",
   "execution_count": 3,
   "metadata": {},
   "outputs": [
    {
     "name": "stdout",
     "output_type": "stream",
     "text": [
      "Creating a list of Pokemon...\n",
      "['Pikachu', 'Charizard', 'Bulbasaur', 'Garydos', 'Dragonite', 'Onyx']\n"
     ]
    }
   ],
   "source": [
    "# Lists\n",
    "# Create a list of Pokemon\n",
    "print(\"Creating a list of Pokemon...\")\n",
    "pokemon = [\"Pikachu\", \"Charizard\", \"Bulbasaur\", \"Garydos\", \"Dragonite\", \"Onyx\"]\n",
    "print(pokemon)"
   ]
  },
  {
   "cell_type": "code",
   "execution_count": 4,
   "metadata": {},
   "outputs": [
    {
     "name": "stdout",
     "output_type": "stream",
     "text": [
      "0\n",
      "1\n",
      "2\n",
      "3\n",
      "4\n"
     ]
    }
   ],
   "source": [
    "# Loop over list\n",
    "# Loop through a range of numbers (0 through 4)\n",
    "for x in range(5):\n",
    "  print(x)"
   ]
  },
  {
   "cell_type": "code",
   "execution_count": 5,
   "metadata": {},
   "outputs": [],
   "source": [
    "# Dicts\n",
    "# Initialize a dictionary\n",
    "trading_pnl = {\n",
    "  \"title\": \"Trading Log\",\n",
    "  \"03-18-2019\": -224,\n",
    "  \"03-19-2019\": 352,\n",
    "  \"03-20-2019\": 252,\n",
    "  \"03-21-2019\": 354,\n",
    "  \"03-22-2019\": -544,\n",
    "  \"03-23-2019\": -650,\n",
    "  \"03-24-2019\": 56,\n",
    "  \"03-25-2019\": 123,\n",
    "  \"03-26-2019\": -43,\n",
    "  \"03-27-2019\": 254,\n",
    "  \"03-28-2019\": 325,\n",
    "  \"03-29-2019\": -123,\n",
    "  \"03-30-2019\": 47,\n",
    "  \"03-31-2019\": 321,\n",
    "  \"04-01-2019\": 123,\n",
    "  \"04-02-2019\": 133,\n",
    "  \"04-03-2019\": -151,\n",
    "  \"04-04-2019\": 613,\n",
    "  \"04-05-2019\": 232,\n",
    "  \"04-06-2019\": -311\n",
    "}\n",
    "# List of Dicts\n",
    "ceo_nested_dict = [\n",
    "  {\n",
    "      \"name\": \"Warren Buffet\",\n",
    "      \"age\": 88,\n",
    "      \"occupation\": \"CEO of Berkshire Hathaway\"\n",
    "  },\n",
    "  {\n",
    "      \"name\": \"Jeff Bezos\",\n",
    "      \"age\": 55,\n",
    "      \"occupation\": \"CEO of Amazon\"\n",
    "  },\n",
    "  {\n",
    "      \"name\": \"Harry Markowitz\",\n",
    "      \"age\": 91,\n",
    "      \"occupation\": \"Professor of Finance\"\n",
    "  }\n",
    "]\n",
    "\n"
   ]
  },
  {
   "cell_type": "code",
   "execution_count": 6,
   "metadata": {},
   "outputs": [
    {
     "name": "stdout",
     "output_type": "stream",
     "text": [
      "GDDY is booming right now!\n"
     ]
    }
   ],
   "source": [
    "# Define a function\n",
    "# Define a main function that accepts a string argument\n",
    "def main(stock_ticker):\n",
    "    text = stock_ticker + \" is booming right now!\"\n",
    "    return text\n",
    "stock_ticker = \"GDDY\"\n",
    "v_text = main(stock_ticker)\n",
    "print(v_text)"
   ]
  },
  {
   "cell_type": "code",
   "execution_count": null,
   "metadata": {},
   "outputs": [],
   "source": []
  }
 ],
 "metadata": {
  "kernelspec": {
   "display_name": "Python 3.7 (XPython)",
   "language": "python",
   "name": "xpython"
  },
  "language_info": {
   "file_extension": ".py",
   "mimetype": "text/x-python",
   "name": "python",
   "version": "3.7.9"
  }
 },
 "nbformat": 4,
 "nbformat_minor": 4
}
