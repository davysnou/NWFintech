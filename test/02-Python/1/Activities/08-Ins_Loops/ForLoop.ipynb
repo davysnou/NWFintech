{
 "cells": [
  {
   "cell_type": "code",
   "execution_count": 2,
   "metadata": {},
   "outputs": [
    {
     "name": "stdout",
     "output_type": "stream",
     "text": [
      "0\n",
      "1\n",
      "2\n",
      "3\n",
      "4\n",
      "5\n",
      "6\n",
      "7\n",
      "8\n",
      "9\n"
     ]
    }
   ],
   "source": [
    "for x in range(10):\n",
    "    print(x)"
   ]
  },
  {
   "cell_type": "code",
   "execution_count": 3,
   "metadata": {},
   "outputs": [
    {
     "name": "stdout",
     "output_type": "stream",
     "text": [
      "2\n",
      "3\n",
      "4\n",
      "5\n",
      "6\n"
     ]
    }
   ],
   "source": [
    "for x in range(2, 7):\n",
    "    print(x)"
   ]
  },
  {
   "cell_type": "code",
   "execution_count": 4,
   "metadata": {},
   "outputs": [
    {
     "name": "stdout",
     "output_type": "stream",
     "text": [
      "P\n",
      "e\n",
      "a\n",
      "c\n",
      "e\n"
     ]
    }
   ],
   "source": [
    "word = \"Peace\"\n",
    "for letters in word:\n",
    "    print(letters)"
   ]
  },
  {
   "cell_type": "code",
   "execution_count": 5,
   "metadata": {},
   "outputs": [
    {
     "name": "stdout",
     "output_type": "stream",
     "text": [
      "Hi!\n"
     ]
    },
    {
     "name": "stdin",
     "output_type": "stream",
     "text": [
      "To run again. Enter 'y' y\n"
     ]
    },
    {
     "name": "stdout",
     "output_type": "stream",
     "text": [
      "Hi!\n"
     ]
    },
    {
     "name": "stdin",
     "output_type": "stream",
     "text": [
      "To run again. Enter 'y' y\n"
     ]
    },
    {
     "name": "stdout",
     "output_type": "stream",
     "text": [
      "Hi!\n"
     ]
    },
    {
     "name": "stdin",
     "output_type": "stream",
     "text": [
      "To run again. Enter 'y' n\n"
     ]
    }
   ],
   "source": [
    "run = \"y\"\n",
    "\n",
    "while run == \"y\":\n",
    "    print(\"Hi!\")\n",
    "    run = input(\"To run again. Enter 'y'\")"
   ]
  },
  {
   "cell_type": "code",
   "execution_count": 6,
   "metadata": {},
   "outputs": [
    {
     "name": "stdout",
     "output_type": "stream",
     "text": [
      "0\n",
      "1\n",
      "2\n",
      "3\n",
      "4\n"
     ]
    }
   ],
   "source": [
    "desired_number = 5\n",
    "for x in range(10):\n",
    "  if ( x == desired_number):\n",
    "    break\n",
    "  print(x)"
   ]
  },
  {
   "cell_type": "code",
   "execution_count": 7,
   "metadata": {},
   "outputs": [
    {
     "name": "stdout",
     "output_type": "stream",
     "text": [
      "0\n",
      "1\n",
      "2\n",
      "3\n",
      "4\n",
      "6\n",
      "7\n",
      "8\n",
      "9\n"
     ]
    }
   ],
   "source": [
    "desired_number = 5\n",
    "for x in range(10):\n",
    "  if (x == desired_number):\n",
    "    continue\n",
    "  print(x)"
   ]
  },
  {
   "cell_type": "code",
   "execution_count": 8,
   "metadata": {},
   "outputs": [
    {
     "name": "stdout",
     "output_type": "stream",
     "text": [
      "1\n",
      "2\n",
      "3\n",
      "4\n",
      "5\n"
     ]
    }
   ],
   "source": [
    "Initializing iterator\n",
    "i = 1\n",
    "\n",
    "while i < 6:\n",
    "  print(i)\n",
    "\n",
    "  #Incrementing iterator\n",
    "  i+=1"
   ]
  },
  {
   "cell_type": "markdown",
   "metadata": {},
   "source": [
    "Pseudocode for determining if credit should be acquired based off of simple interest:\n",
    "\n",
    "1. Initialize \"principal\" and \"interest_rate\" variables to a float\n",
    "2. Initialize \"time_period\" variable to an integer\n",
    "3. Compute \"simple_interest\" by multiplying \"principal\", \"interest_rate\", and \"time_period\"\n",
    "4. Determine if credit should be accepted\n",
    "    IF \"simple_interest\" is less than or equal to 2000\n",
    "        THEN print(\"We highly recommend you get this line of credit. Total simple interest paid is less than $2,000\")\n",
    "    ELSE If \"simple_interest\" is greater than 2000 but less than or equal to 4000\n",
    "        THEN print(\"This is an okay deal. You might find better. Total simple interest paid will between $2,000 and $4,000\")\n",
    "    ELSE print(\"Total simple interest paid will be over $4,000. Do not accept this line of credit\")"
   ]
  },
  {
   "cell_type": "markdown",
   "metadata": {},
   "source": [
    "Pseudocode for calculating simple interest:\n",
    "\n",
    "1. Initialize \"principal\" and \"interest_rate\" variables to a float\n",
    "2. Initialize \"time_period\" variable to an integer\n",
    "3. Compute \"simple_interest\" by multiplying principal, interest_rate, and time_period"
   ]
  }
 ],
 "metadata": {
  "kernelspec": {
   "display_name": "Python 3",
   "language": "python",
   "name": "python3"
  },
  "language_info": {
   "codemirror_mode": {
    "name": "ipython",
    "version": 3
   },
   "file_extension": ".py",
   "mimetype": "text/x-python",
   "name": "python",
   "nbconvert_exporter": "python",
   "pygments_lexer": "ipython3",
   "version": "3.7.9"
  }
 },
 "nbformat": 4,
 "nbformat_minor": 4
}
