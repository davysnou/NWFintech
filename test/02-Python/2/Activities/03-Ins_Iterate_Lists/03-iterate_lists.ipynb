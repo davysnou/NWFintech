{
 "cells": [
  {
   "cell_type": "code",
   "execution_count": 1,
   "metadata": {},
   "outputs": [],
   "source": [
    "# Initialize the metric variables\n",
    "count = 0\n",
    "total = 0\n",
    "average = 0\n",
    "minimum = 0\n",
    "maximum = 0"
   ]
  },
  {
   "cell_type": "code",
   "execution_count": 2,
   "metadata": {},
   "outputs": [],
   "source": [
    "# List of daily tips\n",
    "cash_tips = [22, 10, 30, 45, 54, 60, 56]\n"
   ]
  },
  {
   "cell_type": "code",
   "execution_count": 3,
   "metadata": {},
   "outputs": [
    {
     "name": "stdout",
     "output_type": "stream",
     "text": [
      "22\n",
      "10\n",
      "30\n",
      "45\n",
      "54\n",
      "60\n",
      "56\n"
     ]
    }
   ],
   "source": [
    "# Showcase every tip in the list\n",
    "for tip in cash_tips:\n",
    "    print(tip)"
   ]
  },
  {
   "cell_type": "code",
   "execution_count": 4,
   "metadata": {},
   "outputs": [
    {
     "name": "stdout",
     "output_type": "stream",
     "text": [
      "---------Summary Statistics----------\n",
      "Number of Days: 7\n",
      "Total Tips: 277\n",
      "Daily Average: 39.57\n",
      "Least Amount of Tips: 10\n",
      "Maximum Amount of Tips: 60\n"
     ]
    }
   ],
   "source": [
    "# Iterate over each element of the list to determine metrics\n",
    "for tip in cash_tips:\n",
    "\n",
    "    # Cumulatively sum up the total and count of tips\n",
    "    total += tip \n",
    "    #total = total + tip\n",
    "    count += 1\n",
    "    #count = count + 1\n",
    "    \n",
    "    # Logic to determine minimum values\n",
    "    if minimum == 0:\n",
    "        minimum = tip #set first value to minimum to begin evaluation\n",
    "    elif tip < minimum:\n",
    "        minimum = tip\n",
    "        \n",
    "    # Logic to determine maximum values        \n",
    "    if tip > maximum:\n",
    "        maximum = tip\n",
    "\n",
    "# Calculate the average\n",
    "average = round(total / count, 2) #round(number, digits)\n",
    "\n",
    "# Print out the summary statistics\n",
    "print(\"---------Summary Statistics----------\")\n",
    "print(f\"Number of Days: {count}\")\n",
    "print(f\"Total Tips: {total}\")\n",
    "print(f\"Daily Average: {average}\")\n",
    "print(f\"Least Amount of Tips: {minimum}\")\n",
    "print(f\"Maximum Amount of Tips: {maximum}\")\n"
   ]
  },
  {
   "cell_type": "code",
   "execution_count": null,
   "metadata": {},
   "outputs": [],
   "source": []
  }
 ],
 "metadata": {
  "kernelspec": {
   "display_name": "Python 3",
   "language": "python",
   "name": "python3"
  },
  "language_info": {
   "codemirror_mode": {
    "name": "ipython",
    "version": 3
   },
   "file_extension": ".py",
   "mimetype": "text/x-python",
   "name": "python",
   "nbconvert_exporter": "python",
   "pygments_lexer": "ipython3",
   "version": "3.7.9"
  }
 },
 "nbformat": 4,
 "nbformat_minor": 4
}
