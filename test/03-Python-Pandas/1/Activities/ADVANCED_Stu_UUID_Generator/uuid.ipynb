{
 "cells": [
  {
   "cell_type": "code",
   "execution_count": 1,
   "metadata": {},
   "outputs": [],
   "source": [
    "import string\n",
    "import random"
   ]
  },
  {
   "cell_type": "code",
   "execution_count": 2,
   "metadata": {},
   "outputs": [],
   "source": [
    "def generate_uuid(length=4, characters=string.ascii_letters + string.digits):\n",
    "    # Loop through a range defined by the length size \n",
    "    # In each loop, make a random choice from our characters and append that to the uuid list\n",
    "    uuid = []\n",
    "    \n",
    "    # Use of underscore: https://www.datacamp.com/community/tutorials/role-underscore-python\n",
    "    for _ in range(length):\n",
    "        uuid.append(random.choice(characters))\n",
    "    # Use join to convert the uuid list to a string\n",
    "    return ''.join(uuid)\n"
   ]
  },
  {
   "cell_type": "code",
   "execution_count": 3,
   "metadata": {},
   "outputs": [],
   "source": [
    "def test():\n",
    "    # Generate a uuid using default values\n",
    "    uuid = generate_uuid()\n",
    "    print(\"UUID using default values: {}\".format(uuid))\n",
    "\n",
    "    # Generate a uuid of length 16 using the default character set\n",
    "    uuid16 = generate_uuid(length=16)\n",
    "    print(\"UUID of length 16: {}\".format(uuid16))\n",
    "\n",
    "    # Generate a uuid of random numbers using the default length\n",
    "    uuid_random_numbers = generate_uuid(characters=string.digits)\n",
    "    print(\"UUID of only numbers: {}\".format(uuid_random_numbers))\n",
    "\n",
    "    # Generate a uuid consisting of only letters\n",
    "    uuid_random_letters = generate_uuid(characters=string.ascii_letters)\n",
    "    print(\"UUID of only letters: {}\".format(uuid_random_letters))\n",
    "\n",
    "    # Generate a uuid of length 8 that includes punctuation in the character set\n",
    "    uuid_with_punctuation = generate_uuid(\n",
    "        length=8,\n",
    "        characters=string.ascii_letters + string.digits + string.punctuation)\n",
    "    print(\"UUID with punctuation: {}\".format(uuid_with_punctuation))\n"
   ]
  },
  {
   "cell_type": "code",
   "execution_count": 4,
   "metadata": {},
   "outputs": [
    {
     "name": "stdout",
     "output_type": "stream",
     "text": [
      "UUID using default values: FSHm\n",
      "UUID of length 16: 9ngVKYIwOWOAPsPQ\n",
      "UUID of only numbers: 3846\n",
      "UUID of only letters: PXZj\n",
      "UUID with punctuation: P)@IUPB+\n"
     ]
    }
   ],
   "source": [
    "#This conditional will execute the test function when running as a script.\n",
    "# https://docs.python.org/3/library/__main__.html\n",
    "if __name__ == '__main__':#Everything starts here\n",
    "    test()"
   ]
  }
 ],
 "metadata": {
  "kernelspec": {
   "display_name": "Python 3.7 (XPython)",
   "language": "python",
   "name": "xpython"
  },
  "language_info": {
   "file_extension": ".py",
   "mimetype": "text/x-python",
   "name": "python",
   "version": "3.7.9"
  }
 },
 "nbformat": 4,
 "nbformat_minor": 4
}
